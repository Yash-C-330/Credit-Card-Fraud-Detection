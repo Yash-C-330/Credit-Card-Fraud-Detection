{
 "cells": [
  {
   "cell_type": "code",
   "execution_count": 0,
   "metadata": {
    "application/vnd.databricks.v1+cell": {
     "cellMetadata": {
      "byteLimit": 2048000,
      "rowLimit": 10000
     },
     "inputWidgets": {},
     "nuid": "9fad3ed4-dae3-4004-89c2-26a1e7f226ea",
     "showTitle": false,
     "tableResultSettingsMap": {},
     "title": ""
    }
   },
   "outputs": [],
   "source": [
    "from pyspark.sql import SparkSession\n",
    "from pyspark.sql.functions import *\n",
    "from pyspark.sql.types import *"
   ]
  },
  {
   "cell_type": "code",
   "execution_count": 0,
   "metadata": {
    "application/vnd.databricks.v1+cell": {
     "cellMetadata": {
      "byteLimit": 2048000,
      "rowLimit": 10000
     },
     "inputWidgets": {},
     "nuid": "1b0259be-325a-4c38-a15c-cd759a71522b",
     "showTitle": false,
     "tableResultSettingsMap": {},
     "title": ""
    }
   },
   "outputs": [],
   "source": [
    "# No import statement needed as per the rules.\n",
    "\n",
    "spark = SparkSession.builder.appName(\"FraudDetection\").getOrCreate()"
   ]
  },
  {
   "cell_type": "code",
   "execution_count": 0,
   "metadata": {
    "application/vnd.databricks.v1+cell": {
     "cellMetadata": {
      "byteLimit": 2048000,
      "rowLimit": 10000
     },
     "inputWidgets": {},
     "nuid": "5bf98dfa-5a2a-4334-9a2c-5fd22a401f54",
     "showTitle": false,
     "tableResultSettingsMap": {},
     "title": ""
    }
   },
   "outputs": [],
   "source": [
    "schema = StructType([\n",
    "    StructField(\"card_id\", LongType(), False),\n",
    "    StructField(\"member_id\", LongType(), False),\n",
    "    StructField(\"amount\", FloatType(), False),\n",
    "    StructField(\"post_code\", LongType(), False),\n",
    "    StructField(\"pos_id\", LongType(), False),\n",
    "    StructField(\"transaction_date\", StringType(), False),\n",
    "    StructField(\"status\", StringType(), False)\n",
    "    ])"
   ]
  },
  {
   "cell_type": "code",
   "execution_count": 0,
   "metadata": {
    "application/vnd.databricks.v1+cell": {
     "cellMetadata": {
      "byteLimit": 2048000,
      "rowLimit": 10000
     },
     "inputWidgets": {},
     "nuid": "ea613f47-8f13-4706-b2c0-500e33c4ca00",
     "showTitle": false,
     "tableResultSettingsMap": {},
     "title": ""
    }
   },
   "outputs": [],
   "source": [
    "df_kafka = (\n",
    "    spark.readStream\n",
    "    .format(\"kafka\")\n",
    "    .option(\"kafka.bootstrap.servers\", \"13.211.91.229:9092\")\n",
    "    .option(\"subscribe\", \"my-topic\")\n",
    "    .option(\"startingOffsets\", \"latest\")\n",
    "    .load()\n",
    "    )\n",
    "\n",
    "df_transactions = df_kafka.selectExpr(\"CAST(value AS STRING)\") \\\n",
    "    .select(from_json(col(\"value\"), schema).alias(\"data\")) \\\n",
    "    .select(\"data.*\")\n",
    "\n",
    "df_transactions.printSchema()  \n",
    "display(df_kafka)  "
   ]
  },
  {
   "cell_type": "code",
   "execution_count": 0,
   "metadata": {
    "application/vnd.databricks.v1+cell": {
     "cellMetadata": {
      "byteLimit": 2048000,
      "rowLimit": 10000
     },
     "inputWidgets": {},
     "nuid": "235929a8-1bf6-4be8-a931-042ff8309e9d",
     "showTitle": false,
     "tableResultSettingsMap": {},
     "title": ""
    }
   },
   "outputs": [],
   "source": [
    "df_fraud_lookup = spark.sql(\"SELECT * FROM spark_catalog.credit_card_db.lookup_table\")\n"
   ]
  },
  {
   "cell_type": "code",
   "execution_count": 0,
   "metadata": {
    "application/vnd.databricks.v1+cell": {
     "cellMetadata": {
      "byteLimit": 2048000,
      "rowLimit": 10000
     },
     "inputWidgets": {},
     "nuid": "ccfe43b1-6276-4a4a-a6c4-ade023eadb74",
     "showTitle": false,
     "tableResultSettingsMap": {},
     "title": ""
    }
   },
   "outputs": [],
   "source": [
    "df_transactions = df_transactions.withColumn(\"transaction_date\", to_timestamp(col(\"transaction_date\"), \"yyyy-MM-dd HH:mm:ss\"))\n",
    "\n",
    "# Rename lookup columns to avoid conflicts\n",
    "df_fraud_lookup = df_fraud_lookup.withColumnRenamed(\"card_id\", \"lookup_card_id\") \\\n",
    "                                 .withColumnRenamed(\"member_id\", \"lookup_member_id\")\n",
    "\n",
    "# Perform the join correctly with proper column aliasing\n",
    "df_result = df_transactions.alias(\"txn\") \\\n",
    "    .join(df_fraud_lookup.alias(\"lookup\"), col(\"txn.card_id\") == col(\"lookup.lookup_card_id\"), \"left\") \\\n",
    "    .select(\n",
    "        col(\"txn.card_id\").alias(\"card_id\"),\n",
    "        col(\"txn.member_id\").alias(\"member_id\"),\n",
    "        col(\"txn.amount\").alias(\"amount\"),\n",
    "        col(\"txn.post_code\").alias(\"post_code\"),\n",
    "        col(\"txn.pos_id\").alias(\"pos_id\"),\n",
    "        col(\"txn.transaction_date\").alias(\"transaction_date\"),\n",
    "        col(\"txn.status\").alias(\"status\"),\n",
    "        col(\"lookup.UCL\").alias(\"UCL\"),\n",
    "        col(\"lookup.score\").alias(\"score\"),\n",
    "        col(\"lookup.last_txn_time\").alias(\"last_txn_time\"),\n",
    "        col(\"lookup.lookup_member_id\").alias(\"lookup_member_id\"),\n",
    "        when(col(\"txn.amount\").isNotNull() & col(\"lookup.UCL\").isNotNull() & (col(\"txn.amount\") > col(\"lookup.UCL\")), \"Exceeds UCL\")\n",
    "        .when(col(\"lookup.score\").isNotNull() & (col(\"lookup.score\") < 0.5), \"Low Score\")\n",
    "        .when(col(\"txn.transaction_date\").isNotNull() & col(\"lookup.last_txn_time\").isNotNull() & (col(\"txn.transaction_date\") < col(\"lookup.last_txn_time\")), \"New Member or Recent Transaction\")\n",
    "        .otherwise(\"Legit\").alias(\"fraud_flag\")\n",
    "    )\n",
    "\n",
    "# df_result = df_result.filter(col(\"fraud_flag\") == \"Legit\")"
   ]
  },
  {
   "cell_type": "code",
   "execution_count": 0,
   "metadata": {
    "application/vnd.databricks.v1+cell": {
     "cellMetadata": {
      "byteLimit": 2048000,
      "rowLimit": 10000
     },
     "inputWidgets": {},
     "nuid": "8e712422-775c-44ed-b6c6-d964e8613cf3",
     "showTitle": false,
     "tableResultSettingsMap": {},
     "title": ""
    }
   },
   "outputs": [],
   "source": [
    "df_fraud_lookup = df_fraud_lookup.withColumnRenamed(\"card_id\", \"lookup_card_id\")\n",
    "df_fraud_lookup = df_fraud_lookup.withColumnRenamed(\"member_id\", \"lookup_member_id\")\n",
    "df_result = df_transactions.alias(\"txn\").join(df_fraud_lookup.alias(\"lookup\"), df_transactions.card_id == df_fraud_lookup.lookup_card_id, \"left\") \\\n",
    ".withColumn(\"fraud_flag\", when(col(\"txn.amount\") > col(\"lookup.UCL\"), \"Exceeds UCL\")\n",
    "            .when(col(\"lookup.score\") < 0.5, \"Low Score\")\n",
    "            .when(col(\"txn.transaction_date\") < col(\"lookup.last_txn_time\"), \"New Member or Recent Transaction\")\n",
    "            .otherwise(\"Legit\")\n",
    ")\n",
    "\n",
    "# df_result = df_result.filter(col(\"fraud_flag\") == \"Legit\")"
   ]
  },
  {
   "cell_type": "code",
   "execution_count": 0,
   "metadata": {
    "application/vnd.databricks.v1+cell": {
     "cellMetadata": {
      "byteLimit": 2048000,
      "rowLimit": 10000
     },
     "inputWidgets": {},
     "nuid": "4dd07939-a5b3-4ed5-a5b1-7cf02308c0ea",
     "showTitle": false,
     "tableResultSettingsMap": {},
     "title": ""
    }
   },
   "outputs": [],
   "source": [
    "\n",
    "\n",
    "df_result.writeStream \\\n",
    "    .format(\"delta\") \\\n",
    "    .outputMode(\"append\") \\\n",
    "    .option(\"checkpointLocation\", \"dbfs:/mnt/checkpoints/fraud_results3\") \\\n",
    "    .start(\"dbfs:/mnt/fraud_results3\") "
   ]
  },
  {
   "cell_type": "code",
   "execution_count": 0,
   "metadata": {
    "application/vnd.databricks.v1+cell": {
     "cellMetadata": {
      "byteLimit": 2048000,
      "rowLimit": 10000
     },
     "inputWidgets": {},
     "nuid": "d764216f-c38d-41e8-9df2-4c6513ba614f",
     "showTitle": false,
     "tableResultSettingsMap": {},
     "title": ""
    }
   },
   "outputs": [],
   "source": [
    "display(dbutils.fs.ls(\"dbfs:/mnt/checkpoints/fraud_results3\"))\n"
   ]
  },
  {
   "cell_type": "code",
   "execution_count": 0,
   "metadata": {
    "application/vnd.databricks.v1+cell": {
     "cellMetadata": {
      "byteLimit": 2048000,
      "rowLimit": 10000
     },
     "inputWidgets": {},
     "nuid": "13a6b5f7-62fc-4f3b-ac8e-b77e1bc9412e",
     "showTitle": false,
     "tableResultSettingsMap": {},
     "title": ""
    }
   },
   "outputs": [],
   "source": [
    "display(dbutils.fs.ls(\"dbfs:/mnt/checkpoints/fraud_results2/commits\"))\n"
   ]
  },
  {
   "cell_type": "code",
   "execution_count": 0,
   "metadata": {
    "application/vnd.databricks.v1+cell": {
     "cellMetadata": {
      "byteLimit": 2048000,
      "rowLimit": 10000
     },
     "inputWidgets": {},
     "nuid": "b97cd1ab-a16b-4cc8-93d8-751078cba81c",
     "showTitle": false,
     "tableResultSettingsMap": {},
     "title": ""
    }
   },
   "outputs": [],
   "source": [
    "df = spark.read.format(\"csv\").load(\"dbfs:/mnt/checkpoints/fraud_results2/commits/4\")\n",
    "display(df)"
   ]
  },
  {
   "cell_type": "code",
   "execution_count": 0,
   "metadata": {
    "application/vnd.databricks.v1+cell": {
     "cellMetadata": {
      "byteLimit": 2048000,
      "rowLimit": 10000
     },
     "inputWidgets": {},
     "nuid": "cb771fc5-1eb8-4ad8-94f6-1a07b8af5fb0",
     "showTitle": false,
     "tableResultSettingsMap": {},
     "title": ""
    }
   },
   "outputs": [],
   "source": [
    "df = spark.read.format(\"delta\").load(\"dbfs:/mnt/fraud_results3\")\n",
    "display(df)"
   ]
  },
  {
   "cell_type": "code",
   "execution_count": 0,
   "metadata": {
    "application/vnd.databricks.v1+cell": {
     "cellMetadata": {
      "byteLimit": 2048000,
      "rowLimit": 10000
     },
     "inputWidgets": {},
     "nuid": "64040a39-356c-41a5-8638-bd78837f7690",
     "showTitle": false,
     "tableResultSettingsMap": {},
     "title": ""
    }
   },
   "outputs": [],
   "source": [
    "df_result.printSchema()\n",
    "\n"
   ]
  }
 ],
 "metadata": {
  "application/vnd.databricks.v1+notebook": {
   "computePreferences": null,
   "dashboards": [],
   "environmentMetadata": {
    "base_environment": "",
    "environment_version": "2"
   },
   "language": "python",
   "notebookMetadata": {
    "pythonIndentUnit": 4
   },
   "notebookName": "KafkaConsumer",
   "widgets": {}
  },
  "language_info": {
   "name": "python"
  }
 },
 "nbformat": 4,
 "nbformat_minor": 0
}
